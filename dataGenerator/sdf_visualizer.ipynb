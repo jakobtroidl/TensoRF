{
 "cells": [
  {
   "cell_type": "code",
   "execution_count": 1,
   "metadata": {},
   "outputs": [
    {
     "name": "stdout",
     "output_type": "stream",
     "text": [
      "Looking in indexes: https://pypi.org/simple, https://pypi.ngc.nvidia.com\n",
      "Requirement already satisfied: numpy in /home/jakobtroidl/anaconda3/envs/nlabels/lib/python3.9/site-packages (1.23.5)\n",
      "Looking in indexes: https://pypi.org/simple, https://pypi.ngc.nvidia.com\n",
      "Requirement already satisfied: pyvista in /home/jakobtroidl/anaconda3/envs/nlabels/lib/python3.9/site-packages (0.38.5)\n",
      "Requirement already satisfied: pillow in /home/jakobtroidl/anaconda3/envs/nlabels/lib/python3.9/site-packages (from pyvista) (9.5.0)\n",
      "Requirement already satisfied: imageio in /home/jakobtroidl/anaconda3/envs/nlabels/lib/python3.9/site-packages (from pyvista) (2.27.0)\n",
      "Requirement already satisfied: numpy in /home/jakobtroidl/anaconda3/envs/nlabels/lib/python3.9/site-packages (from pyvista) (1.23.5)\n",
      "Requirement already satisfied: vtk in /home/jakobtroidl/anaconda3/envs/nlabels/lib/python3.9/site-packages (from pyvista) (9.2.6)\n",
      "Requirement already satisfied: scooby>=0.5.1 in /home/jakobtroidl/anaconda3/envs/nlabels/lib/python3.9/site-packages (from pyvista) (0.7.1)\n",
      "Requirement already satisfied: pooch in /home/jakobtroidl/anaconda3/envs/nlabels/lib/python3.9/site-packages (from pyvista) (1.7.0)\n",
      "Requirement already satisfied: packaging>=20.0 in /home/jakobtroidl/anaconda3/envs/nlabels/lib/python3.9/site-packages (from pooch->pyvista) (23.0)\n",
      "Requirement already satisfied: requests>=2.19.0 in /home/jakobtroidl/anaconda3/envs/nlabels/lib/python3.9/site-packages (from pooch->pyvista) (2.28.2)\n",
      "Requirement already satisfied: platformdirs>=2.5.0 in /home/jakobtroidl/anaconda3/envs/nlabels/lib/python3.9/site-packages (from pooch->pyvista) (3.2.0)\n",
      "Requirement already satisfied: matplotlib>=2.0.0 in /home/jakobtroidl/anaconda3/envs/nlabels/lib/python3.9/site-packages (from vtk->pyvista) (3.7.1)\n",
      "Requirement already satisfied: kiwisolver>=1.0.1 in /home/jakobtroidl/anaconda3/envs/nlabels/lib/python3.9/site-packages (from matplotlib>=2.0.0->vtk->pyvista) (1.4.4)\n",
      "Requirement already satisfied: pyparsing>=2.3.1 in /home/jakobtroidl/anaconda3/envs/nlabels/lib/python3.9/site-packages (from matplotlib>=2.0.0->vtk->pyvista) (3.0.9)\n",
      "Requirement already satisfied: python-dateutil>=2.7 in /home/jakobtroidl/anaconda3/envs/nlabels/lib/python3.9/site-packages (from matplotlib>=2.0.0->vtk->pyvista) (2.8.2)\n",
      "Requirement already satisfied: fonttools>=4.22.0 in /home/jakobtroidl/anaconda3/envs/nlabels/lib/python3.9/site-packages (from matplotlib>=2.0.0->vtk->pyvista) (4.39.3)\n",
      "Requirement already satisfied: contourpy>=1.0.1 in /home/jakobtroidl/anaconda3/envs/nlabels/lib/python3.9/site-packages (from matplotlib>=2.0.0->vtk->pyvista) (1.0.7)\n",
      "Requirement already satisfied: importlib-resources>=3.2.0 in /home/jakobtroidl/anaconda3/envs/nlabels/lib/python3.9/site-packages (from matplotlib>=2.0.0->vtk->pyvista) (5.12.0)\n",
      "Requirement already satisfied: cycler>=0.10 in /home/jakobtroidl/anaconda3/envs/nlabels/lib/python3.9/site-packages (from matplotlib>=2.0.0->vtk->pyvista) (0.11.0)\n",
      "Requirement already satisfied: urllib3<1.27,>=1.21.1 in /home/jakobtroidl/anaconda3/envs/nlabels/lib/python3.9/site-packages (from requests>=2.19.0->pooch->pyvista) (1.26.15)\n",
      "Requirement already satisfied: idna<4,>=2.5 in /home/jakobtroidl/anaconda3/envs/nlabels/lib/python3.9/site-packages (from requests>=2.19.0->pooch->pyvista) (3.4)\n",
      "Requirement already satisfied: charset-normalizer<4,>=2 in /home/jakobtroidl/anaconda3/envs/nlabels/lib/python3.9/site-packages (from requests>=2.19.0->pooch->pyvista) (3.1.0)\n",
      "Requirement already satisfied: certifi>=2017.4.17 in /home/jakobtroidl/anaconda3/envs/nlabels/lib/python3.9/site-packages (from requests>=2.19.0->pooch->pyvista) (2022.12.7)\n",
      "Requirement already satisfied: zipp>=3.1.0 in /home/jakobtroidl/anaconda3/envs/nlabels/lib/python3.9/site-packages (from importlib-resources>=3.2.0->matplotlib>=2.0.0->vtk->pyvista) (3.15.0)\n",
      "Requirement already satisfied: six>=1.5 in /home/jakobtroidl/anaconda3/envs/nlabels/lib/python3.9/site-packages (from python-dateutil>=2.7->matplotlib>=2.0.0->vtk->pyvista) (1.16.0)\n"
     ]
    }
   ],
   "source": [
    "!pip install numpy\n",
    "!pip install pyvista"
   ]
  },
  {
   "cell_type": "code",
   "execution_count": 2,
   "metadata": {},
   "outputs": [],
   "source": [
    "import numpy as np\n",
    "import pyvista as pv"
   ]
  },
  {
   "cell_type": "code",
   "execution_count": 3,
   "metadata": {},
   "outputs": [
    {
     "ename": "AttributeError",
     "evalue": "'StructuredGrid' object has no attribute 'point_arrays'",
     "output_type": "error",
     "traceback": [
      "\u001b[0;31m---------------------------------------------------------------------------\u001b[0m",
      "\u001b[0;31mAttributeError\u001b[0m                            Traceback (most recent call last)",
      "Cell \u001b[0;32mIn[3], line 11\u001b[0m\n\u001b[1;32m      9\u001b[0m \u001b[39m# Create a PyVista grid object from the SDF values\u001b[39;00m\n\u001b[1;32m     10\u001b[0m grid \u001b[39m=\u001b[39m pv\u001b[39m.\u001b[39mStructuredGrid(x, y, z)\n\u001b[0;32m---> 11\u001b[0m grid\u001b[39m.\u001b[39;49mpoint_arrays[\u001b[39m'\u001b[39m\u001b[39mSDF\u001b[39m\u001b[39m'\u001b[39m] \u001b[39m=\u001b[39m sdf\n\u001b[1;32m     13\u001b[0m \u001b[39m# Render the grid using PyVista\u001b[39;00m\n\u001b[1;32m     14\u001b[0m p \u001b[39m=\u001b[39m pv\u001b[39m.\u001b[39mPlotter()\n",
      "File \u001b[0;32m~/anaconda3/envs/nlabels/lib/python3.9/site-packages/pyvista/core/dataset.py:122\u001b[0m, in \u001b[0;36mDataSet.__getattr__\u001b[0;34m(self, item)\u001b[0m\n\u001b[1;32m    120\u001b[0m \u001b[39mdef\u001b[39;00m \u001b[39m__getattr__\u001b[39m(\u001b[39mself\u001b[39m, item) \u001b[39m-\u001b[39m\u001b[39m>\u001b[39m Any:\n\u001b[1;32m    121\u001b[0m \u001b[39m    \u001b[39m\u001b[39m\"\"\"Get attribute from base class if not found.\"\"\"\u001b[39;00m\n\u001b[0;32m--> 122\u001b[0m     \u001b[39mreturn\u001b[39;00m \u001b[39msuper\u001b[39;49m()\u001b[39m.\u001b[39;49m\u001b[39m__getattribute__\u001b[39;49m(item)\n",
      "\u001b[0;31mAttributeError\u001b[0m: 'StructuredGrid' object has no attribute 'point_arrays'"
     ]
    }
   ],
   "source": [
    "x, y, z = np.meshgrid(np.linspace(-1, 1, 64),\n",
    "                      np.linspace(-1, 1, 64),\n",
    "                      np.linspace(-1, 1, 64))\n",
    "points = np.column_stack((x.ravel(), y.ravel(), z.ravel()))\n",
    "\n",
    "# Evaluate the SDF at each point\n",
    "sdf = np.sqrt(np.sum(points**2, axis=1)) - 0.5\n",
    "\n",
    "# Create a PyVista grid object from the SDF values\n",
    "grid = pv.StructuredGrid(x, y, z)\n",
    "grid.point_arrays['SDF'] = sdf\n",
    "\n",
    "# Render the grid using PyVista\n",
    "p = pv.Plotter()\n",
    "p.add_mesh(grid, cmap='coolwarm')\n",
    "p.show()"
   ]
  }
 ],
 "metadata": {
  "kernelspec": {
   "display_name": "nlabels",
   "language": "python",
   "name": "python3"
  },
  "language_info": {
   "codemirror_mode": {
    "name": "ipython",
    "version": 3
   },
   "file_extension": ".py",
   "mimetype": "text/x-python",
   "name": "python",
   "nbconvert_exporter": "python",
   "pygments_lexer": "ipython3",
   "version": "3.9.16"
  },
  "orig_nbformat": 4
 },
 "nbformat": 4,
 "nbformat_minor": 2
}
