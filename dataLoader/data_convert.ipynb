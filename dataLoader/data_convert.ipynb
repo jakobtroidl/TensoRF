{
 "cells": [
  {
   "cell_type": "markdown",
   "metadata": {},
   "source": [
    "TensoRF to numpy conversion"
   ]
  },
  {
   "cell_type": "code",
   "execution_count": null,
   "metadata": {},
   "outputs": [],
   "source": []
  },
  {
   "cell_type": "code",
   "execution_count": 1,
   "metadata": {},
   "outputs": [
    {
     "name": "stdout",
     "output_type": "stream",
     "text": [
      "Looking in indexes: https://pypi.org/simple, https://pypi.ngc.nvidia.com\n",
      "Requirement already satisfied: vtk in /home/jakobtroidl/anaconda3/envs/nlabels/lib/python3.9/site-packages (9.2.6)\n",
      "Requirement already satisfied: numpy in /home/jakobtroidl/anaconda3/envs/nlabels/lib/python3.9/site-packages (1.23.5)\n",
      "Collecting pyevtk\n",
      "  Downloading pyevtk-1.6.0-py3-none-any.whl (20 kB)\n",
      "Requirement already satisfied: matplotlib>=2.0.0 in /home/jakobtroidl/anaconda3/envs/nlabels/lib/python3.9/site-packages (from vtk) (3.7.1)\n",
      "Requirement already satisfied: kiwisolver>=1.0.1 in /home/jakobtroidl/anaconda3/envs/nlabels/lib/python3.9/site-packages (from matplotlib>=2.0.0->vtk) (1.4.4)\n",
      "Requirement already satisfied: pyparsing>=2.3.1 in /home/jakobtroidl/anaconda3/envs/nlabels/lib/python3.9/site-packages (from matplotlib>=2.0.0->vtk) (3.0.9)\n",
      "Requirement already satisfied: python-dateutil>=2.7 in /home/jakobtroidl/anaconda3/envs/nlabels/lib/python3.9/site-packages (from matplotlib>=2.0.0->vtk) (2.8.2)\n",
      "Requirement already satisfied: packaging>=20.0 in /home/jakobtroidl/anaconda3/envs/nlabels/lib/python3.9/site-packages (from matplotlib>=2.0.0->vtk) (23.0)\n",
      "Requirement already satisfied: contourpy>=1.0.1 in /home/jakobtroidl/anaconda3/envs/nlabels/lib/python3.9/site-packages (from matplotlib>=2.0.0->vtk) (1.0.7)\n",
      "Requirement already satisfied: importlib-resources>=3.2.0 in /home/jakobtroidl/anaconda3/envs/nlabels/lib/python3.9/site-packages (from matplotlib>=2.0.0->vtk) (5.12.0)\n",
      "Requirement already satisfied: fonttools>=4.22.0 in /home/jakobtroidl/anaconda3/envs/nlabels/lib/python3.9/site-packages (from matplotlib>=2.0.0->vtk) (4.39.3)\n",
      "Requirement already satisfied: pillow>=6.2.0 in /home/jakobtroidl/anaconda3/envs/nlabels/lib/python3.9/site-packages (from matplotlib>=2.0.0->vtk) (9.5.0)\n",
      "Requirement already satisfied: cycler>=0.10 in /home/jakobtroidl/anaconda3/envs/nlabels/lib/python3.9/site-packages (from matplotlib>=2.0.0->vtk) (0.11.0)\n",
      "Requirement already satisfied: zipp>=3.1.0 in /home/jakobtroidl/anaconda3/envs/nlabels/lib/python3.9/site-packages (from importlib-resources>=3.2.0->matplotlib>=2.0.0->vtk) (3.15.0)\n",
      "Requirement already satisfied: six>=1.5 in /home/jakobtroidl/anaconda3/envs/nlabels/lib/python3.9/site-packages (from python-dateutil>=2.7->matplotlib>=2.0.0->vtk) (1.16.0)\n",
      "Installing collected packages: pyevtk\n",
      "Successfully installed pyevtk-1.6.0\n",
      "Note: you may need to restart the kernel to use updated packages.\n"
     ]
    }
   ],
   "source": [
    "%pip install vtk numpy pyevtk\n"
   ]
  },
  {
   "cell_type": "code",
   "execution_count": 2,
   "metadata": {},
   "outputs": [
    {
     "data": {
      "text/plain": [
       "'/home/jakobtroidl/Desktop/neuralObjects/dataLoader/volume.vti'"
      ]
     },
     "execution_count": 2,
     "metadata": {},
     "output_type": "execute_result"
    }
   ],
   "source": [
    "from pyevtk.hl import imageToVTK\n",
    "import numpy as np\n",
    "\n",
    "path = \"/home/jakobtroidl/Desktop/neuralObjects/log/bunny_sdf/volume.npy\"\n",
    "\n",
    "rec =  np.load(path)  # Create some 3D test data\n",
    "imageToVTK('volume', pointData={'value' : rec})    # create volume.vti\n"
   ]
  },
  {
   "cell_type": "code",
   "execution_count": 4,
   "metadata": {},
   "outputs": [],
   "source": [
    "import vtk\n",
    "import numpy as np\n",
    "from vtk.util import numpy_support"
   ]
  },
  {
   "cell_type": "code",
   "execution_count": 6,
   "metadata": {},
   "outputs": [],
   "source": [
    "def sphere(radius=10):\n",
    "    # Define the dimensions of the volume\n",
    "    x_dim, y_dim, z_dim = 32, 32, 32\n",
    "\n",
    "    # Define the center and radius of the sphere\n",
    "    center = np.array([x_dim/2, y_dim/2, z_dim/2])\n",
    "    radius = 10\n",
    "\n",
    "    # Create a meshgrid of coordinates\n",
    "    x, y, z = np.meshgrid(np.arange(x_dim), np.arange(y_dim), np.arange(z_dim), indexing='ij')\n",
    "    coords = np.stack([x, y, z], axis=-1)\n",
    "\n",
    "    # Compute the signed distance field\n",
    "    distances = np.linalg.norm(coords - center, axis=-1) - radius\n",
    "\n",
    "    # Normalize the distances to [-1, 1]\n",
    "    normalized_distances = distances / radius\n",
    "\n",
    "    # Create the SDF volume\n",
    "    sdf_volume = np.clip(normalized_distances, -1, 1)\n",
    "\n",
    "    return sdf_volume"
   ]
  },
  {
   "cell_type": "code",
   "execution_count": 7,
   "metadata": {},
   "outputs": [
    {
     "name": "stderr",
     "output_type": "stream",
     "text": [
      "\u001b[0m\u001b[33m2023-07-25 17:19:36.312 ( 263.804s) [        3BDC8440]         vtkDataSet.cxx:663   WARN| vtkImageData (0x261cf50): Point array  with 1 components, has 32768 tuples but there are only 1000 points\u001b[0m\n"
     ]
    },
    {
     "data": {
      "text/plain": [
       "1"
      ]
     },
     "execution_count": 7,
     "metadata": {},
     "output_type": "execute_result"
    }
   ],
   "source": [
    "# Create a VTK image data object\n",
    "image_data = vtk.vtkImageData()\n",
    "image_data.SetDimensions(10, 10, 10)\n",
    "image_data.AllocateScalars(vtk.VTK_FLOAT, 1)\n",
    "\n",
    "# Fill the image data with your numpy array\n",
    "numpy_array = sphere()\n",
    "vtk_array = numpy_support.numpy_to_vtk(numpy_array.ravel(), deep=True, array_type=vtk.VTK_FLOAT)\n",
    "image_data.GetPointData().SetScalars(vtk_array)\n",
    "\n",
    "# Write the image data to a VTI file\n",
    "writer = vtk.vtkXMLImageDataWriter()\n",
    "writer.SetFileName(\"output.vti\")\n",
    "writer.SetInputData(image_data)\n",
    "writer.Write()"
   ]
  }
 ],
 "metadata": {
  "kernelspec": {
   "display_name": "nlabels",
   "language": "python",
   "name": "python3"
  },
  "language_info": {
   "codemirror_mode": {
    "name": "ipython",
    "version": 3
   },
   "file_extension": ".py",
   "mimetype": "text/x-python",
   "name": "python",
   "nbconvert_exporter": "python",
   "pygments_lexer": "ipython3",
   "version": "3.9.16"
  },
  "orig_nbformat": 4
 },
 "nbformat": 4,
 "nbformat_minor": 2
}
